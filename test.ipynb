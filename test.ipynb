{
 "cells": [
  {
   "cell_type": "code",
   "execution_count": 6,
   "id": "41e23be2",
   "metadata": {},
   "outputs": [
    {
     "name": "stderr",
     "output_type": "stream",
     "text": [
      "Device set to use cpu\n",
      "/home/thanh/Workspace/agentcortex/.venv/lib/python3.12/site-packages/transformers/pipelines/text_classification.py:111: UserWarning: `return_all_scores` is now deprecated,  if want a similar functionality use `top_k=None` instead of `return_all_scores=True` or `top_k=1` instead of `return_all_scores=False`.\n",
      "  warnings.warn(\n",
      "/home/thanh/Workspace/agentcortex/.venv/lib/python3.12/site-packages/transformers/pipelines/text_classification.py:111: UserWarning: `return_all_scores` is now deprecated,  if want a similar functionality use `top_k=None` instead of `return_all_scores=True` or `top_k=1` instead of `return_all_scores=False`.\n",
      "  warnings.warn(\n"
     ]
    },
    {
     "name": "stdout",
     "output_type": "stream",
     "text": [
      "Added 3 chunks from 3 documents\n",
      "Similarity: 0.670\n",
      "Text: Python is a powerful programming language for AI development.\n",
      "--------------------------------------------------\n",
      "Similarity: 0.357\n",
      "Text: Natural language processing helps computers understand human language.\n",
      "--------------------------------------------------\n"
     ]
    }
   ],
   "source": [
    "from agentcortex import RAGPipeline\n",
    "\n",
    "# Initialize pipeline\n",
    "pipeline = RAGPipeline()\n",
    "\n",
    "# Add some documents\n",
    "texts = [\n",
    "    \"Python is a powerful programming language for AI development.\",\n",
    "    \"Machine learning models require large datasets for training.\",\n",
    "    \"Natural language processing helps computers understand human language.\"\n",
    "]\n",
    "\n",
    "# Process and store documents\n",
    "stats = pipeline.add_documents_from_text(texts)\n",
    "print(f\"Added {stats['total_chunks']} chunks from {stats['text_documents_processed']} documents\")\n",
    "\n",
    "# Query the pipeline\n",
    "results = pipeline.query(\"What is Python used for?\", k=2)\n",
    "for result in results:\n",
    "    print(f\"Similarity: {result['similarity']:.3f}\")\n",
    "    print(f\"Text: {result['text']}\")\n",
    "    print(\"-\" * 50)"
   ]
  },
  {
   "cell_type": "code",
   "execution_count": null,
   "id": "7a62b8c5",
   "metadata": {},
   "outputs": [
    {
     "name": "stdout",
     "output_type": "stream",
     "text": [
      "Cleared 14 modules from cache\n"
     ]
    }
   ],
   "source": [
    "# Clear module cache and reload agentcortex modules\n",
    "import sys\n",
    "import importlib\n",
    "\n",
    "# Remove agentcortex modules from cache\n",
    "modules_to_remove = [mod for mod in sys.modules.keys() if mod.startswith('agentcortex')]\n",
    "for mod in modules_to_remove:\n",
    "    del sys.modules[mod]\n",
    "\n",
    "print(f\"Cleared {len(modules_to_remove)} modules from cache\")"
   ]
  },
  {
   "cell_type": "markdown",
   "id": "0a8f99a9",
   "metadata": {},
   "source": []
  }
 ],
 "metadata": {
  "kernelspec": {
   "display_name": "agentcortex",
   "language": "python",
   "name": "python3"
  },
  "language_info": {
   "codemirror_mode": {
    "name": "ipython",
    "version": 3
   },
   "file_extension": ".py",
   "mimetype": "text/x-python",
   "name": "python",
   "nbconvert_exporter": "python",
   "pygments_lexer": "ipython3",
   "version": "3.12.3"
  }
 },
 "nbformat": 4,
 "nbformat_minor": 5
}
